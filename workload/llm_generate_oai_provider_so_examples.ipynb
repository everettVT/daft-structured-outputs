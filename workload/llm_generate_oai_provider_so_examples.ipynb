{
 "cells": [
  {
   "cell_type": "markdown",
   "id": "1f6f457a",
   "metadata": {},
   "source": [
    "# Daft llm_generate Structured Outputs Examples (OpenAI)\n",
    "\n",
    "From https://openai.com/index/introducing-structured-outputs-in-the-api/"
   ]
  },
  {
   "cell_type": "code",
   "execution_count": null,
   "id": "3f79f53b",
   "metadata": {},
   "outputs": [],
   "source": [
    "!pip install daft openai pydantic"
   ]
  },
  {
   "cell_type": "code",
   "execution_count": null,
   "id": "651430d6",
   "metadata": {},
   "outputs": [],
   "source": [
    "import daft\n",
    "from daft.functions import llm_generate\n",
    "from dotenv import load_dotenv\n",
    "\n",
    "load_dotenv()\n",
    "\n",
    "model_id = \"gpt-5-nano-2025-08-07\""
   ]
  },
  {
   "cell_type": "markdown",
   "id": "addba710",
   "metadata": {},
   "source": [
    "### Text Generation"
   ]
  },
  {
   "cell_type": "code",
   "execution_count": null,
   "id": "d09a6914",
   "metadata": {},
   "outputs": [],
   "source": [
    "df = daft.from_pylist([\n",
    "    {\"text\":\"What is the best thing about Daft dataframes (the python library)?\"},\n",
    "])\n",
    "\n",
    "df_result = df.with_column(\"result\", llm_generate(\n",
    "        df[\"text\"], \n",
    "        model=model_id,\n",
    "        provider=\"openai\",\n",
    "    )\n",
    ")\n",
    "df_result.show()"
   ]
  },
  {
   "cell_type": "markdown",
   "id": "1587ef70",
   "metadata": {},
   "source": [
    "### Pydantic JSON Schema with OpenAI"
   ]
  },
  {
   "cell_type": "code",
   "execution_count": null,
   "id": "43abf56d",
   "metadata": {},
   "outputs": [],
   "source": [
    "from pydantic import BaseModel\n",
    "from openai import OpenAI\n",
    "\n",
    "\n",
    "class Step(BaseModel):\n",
    "    explanation: str\n",
    "    output: str\n",
    "\n",
    "\n",
    "class MathResponse(BaseModel):\n",
    "    steps: list[Step]\n",
    "    final_answer: str\n",
    "\n",
    "\n",
    "client = OpenAI()\n",
    "\n",
    "completion = client.beta.chat.completions.parse(\n",
    "    model=model_id,\n",
    "    messages=[\n",
    "        {\"role\": \"system\", \"content\": \"You are a helpful math tutor.\"},\n",
    "        {\"role\": \"user\", \"content\": \"solve 8x + 31 = 2\"},\n",
    "    ],\n",
    "    response_format=MathResponse,\n",
    ")\n",
    "\n",
    "message = completion.choices[0].message\n",
    "if message.parsed:\n",
    "    print(message.parsed.steps)\n",
    "    print(message.parsed.final_answer)\n",
    "else:\n",
    "    print(message.refusal)\n"
   ]
  },
  {
   "cell_type": "markdown",
   "id": "93100176",
   "metadata": {},
   "source": [
    "### Pydantic JSON Schema with Daft"
   ]
  },
  {
   "cell_type": "code",
   "execution_count": null,
   "id": "fd867a72",
   "metadata": {},
   "outputs": [],
   "source": [
    "df = daft.from_pylist([\n",
    "    {\"text\": \"solve 8x + 31 = 2\"},\n",
    "])\n",
    "\n",
    "df_result = df.with_column(\"result\", llm_generate(\n",
    "        \"You are a helpful math tutor.\" + df[\"text\"], \n",
    "        model=model_id,\n",
    "        provider=\"openai\",\n",
    "        response_format={\n",
    "            \"type\": \"json_schema\",\n",
    "            \"json_schema\": {\n",
    "                \"name\": \"math-response\",\n",
    "                \"schema\": MathResponse.model_json_schema(),\n",
    "            },\n",
    "        },\n",
    "    )\n",
    ")\n",
    "\n",
    "df_result_validated = df_result.with_column(\"pydantic_model_validated\", df_result[\"result\"].apply(\n",
    "    lambda x: MathResponse.model_validate_json(x),\n",
    "    return_dtype= daft.DataType.python()\n",
    "))\n",
    "\n",
    "df_result_validated.show()"
   ]
  },
  {
   "cell_type": "markdown",
   "id": "4853954a",
   "metadata": {},
   "source": [
    "### Pydantic Function Tool (Not yet supported) "
   ]
  },
  {
   "cell_type": "code",
   "execution_count": null,
   "id": "971cff70",
   "metadata": {},
   "outputs": [],
   "source": [
    "from enum import Enum\n",
    "from typing import Union\n",
    "\n",
    "from pydantic import BaseModel\n",
    "\n",
    "import openai\n",
    "from openai import OpenAI\n",
    "\n",
    "\n",
    "class Table(str, Enum):\n",
    "    orders = \"orders\"\n",
    "    customers = \"customers\"\n",
    "    products = \"products\"\n",
    "\n",
    "\n",
    "class Column(str, Enum):\n",
    "    id = \"id\"\n",
    "    status = \"status\"\n",
    "    expected_delivery_date = \"expected_delivery_date\"\n",
    "    delivered_at = \"delivered_at\"\n",
    "    shipped_at = \"shipped_at\"\n",
    "    ordered_at = \"ordered_at\"\n",
    "    canceled_at = \"canceled_at\"\n",
    "\n",
    "\n",
    "class Operator(str, Enum):\n",
    "    eq = \"=\"\n",
    "    gt = \">\"\n",
    "    lt = \"<\"\n",
    "    le = \"<=\"\n",
    "    ge = \">=\"\n",
    "    ne = \"!=\"\n",
    "\n",
    "\n",
    "class OrderBy(str, Enum):\n",
    "    asc = \"asc\"\n",
    "    desc = \"desc\"\n",
    "\n",
    "\n",
    "class DynamicValue(BaseModel):\n",
    "    column_name: str\n",
    "\n",
    "\n",
    "class Condition(BaseModel):\n",
    "    column: str\n",
    "    operator: Operator\n",
    "    value: Union[str, int, DynamicValue]\n",
    "\n",
    "\n",
    "class Query(BaseModel):\n",
    "    table_name: Table\n",
    "    columns: list[Column]\n",
    "    conditions: list[Condition]\n",
    "    order_by: OrderBy\n",
    "\n",
    "\n",
    "client = OpenAI()\n",
    "\n",
    "completion = client.beta.chat.completions.parse(\n",
    "    model=\"gpt-4o-2024-08-06\",\n",
    "    messages=[\n",
    "        {\n",
    "            \"role\": \"system\",\n",
    "            \"content\": \"You are a helpful assistant. The current date is August 6, 2024. You help users query for the data they are looking for by calling the query function.\",\n",
    "        },\n",
    "        {\n",
    "            \"role\": \"user\",\n",
    "            \"content\": \"look up all my orders in may of last year that were fulfilled but not delivered on time\",\n",
    "        },\n",
    "    ],\n",
    "    tools=[\n",
    "        openai.pydantic_function_tool(Query),\n",
    "    ],\n",
    ")\n",
    "\n",
    "print(completion.choices[0].message.tool_calls[0].function.parsed_arguments)"
   ]
  },
  {
   "cell_type": "markdown",
   "id": "f04dc01c",
   "metadata": {},
   "source": [
    "### Chat Completions Parse API - Not yet supported"
   ]
  },
  {
   "cell_type": "code",
   "execution_count": 15,
   "id": "fea959a7",
   "metadata": {},
   "outputs": [
    {
     "name": "stdout",
     "output_type": "stream",
     "text": [
      "[Step(explanation='We start with the equation 8x + 31 = 2.', output='8x + 31 = 2'), Step(explanation='We need to isolate the term containing x. To do this, subtract 31 from both sides of the equation.', output='8x + 31 - 31 = 2 - 31'), Step(explanation='Simplify both sides by performing the subtraction.', output='8x = -29'), Step(explanation='To solve for x, divide both sides by 8 to isolate x.', output='x = -29 / 8')]\n",
      "x = -29/8\n"
     ]
    }
   ],
   "source": [
    "from pydantic import BaseModel\n",
    "\n",
    "from openai import OpenAI\n",
    "\n",
    "\n",
    "class Step(BaseModel):\n",
    "    explanation: str\n",
    "    output: str\n",
    "\n",
    "\n",
    "class MathResponse(BaseModel):\n",
    "    steps: list[Step]\n",
    "    final_answer: str\n",
    "\n",
    "\n",
    "client = OpenAI()\n",
    "\n",
    "completion = client.beta.chat.completions.parse(\n",
    "    model=model_id,\n",
    "    messages=[\n",
    "        {\"role\": \"system\", \"content\": \"You are a helpful math tutor.\"},\n",
    "        {\"role\": \"user\", \"content\": \"solve 8x + 31 = 2\"},\n",
    "    ],\n",
    "    response_format=MathResponse,\n",
    ")\n",
    "\n",
    "message = completion.choices[0].message\n",
    "if message.parsed:\n",
    "    print(message.parsed.steps)\n",
    "    print(message.parsed.final_answer)\n",
    "else:\n",
    "    print(message.refusal)"
   ]
  }
 ],
 "metadata": {
  "kernelspec": {
   "display_name": ".venv",
   "language": "python",
   "name": "python3"
  },
  "language_info": {
   "codemirror_mode": {
    "name": "ipython",
    "version": 3
   },
   "file_extension": ".py",
   "mimetype": "text/x-python",
   "name": "python",
   "nbconvert_exporter": "python",
   "pygments_lexer": "ipython3",
   "version": "3.12.11"
  }
 },
 "nbformat": 4,
 "nbformat_minor": 5
}
