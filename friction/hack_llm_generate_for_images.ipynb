{
 "cells": [
  {
   "cell_type": "markdown",
   "id": "24e4e4b7",
   "metadata": {
    "vscode": {
     "languageId": "plaintext"
    }
   },
   "source": [
    "lets see if llm_generate gives us a response to our prompts with only text but using `guided_choice`"
   ]
  },
  {
   "cell_type": "code",
   "execution_count": null,
   "id": "1eecfd92",
   "metadata": {},
   "outputs": [],
   "source": [
    "# Here we flatten the dictionary and build a new column \"input\" as a formatted multi-line string for the content.\n",
    "df_mini = df_mini.with_column(\"input\", format(\"\"\"[{\"type\": \"text\", \"text\": \"{}\"}, {\"type\": \"image_url\",\"image_url\": {\"url\": \"data:image/png;base64,{}\")}}]\"\"\",\n",
    "    col(\"user\"),\n",
    "    col(\"image_base64\"),\n",
    "    )\n",
    ").collect()\n",
    "df_mini.show()"
   ]
  },
  {
   "cell_type": "markdown",
   "id": "5a087b60",
   "metadata": {},
   "source": [
    "\\Lets try passing the input column that we constructed."
   ]
  },
  {
   "cell_type": "code",
   "execution_count": null,
   "id": "49e800ea",
   "metadata": {},
   "outputs": [],
   "source": [
    "from daft import col\n",
    "from daft.functions import llm_generate, format\n",
    "content = format(\"\"\"[{\"type\": \"text\", \"text\": \"{}\"}, {\"type\": \"image_url\",\"image_url\": {\"url\": \"data:image/png;base64,{}\")}}]\"\"\",\n",
    "    col(\"user\"),\n",
    "    col(\"image_base64\"),\n",
    "    )\n",
    "df_mini_result = df_mini.with_column(\"result\", llm_generate(\n",
    "        \" \",\n",
    "        model=model_id,\n",
    "        provider=\"openai\",\n",
    "        extra_body={\"guided_choice\": [\"A\", \"B\", \"C\", \"D\"]},\n",
    "        base_url=base_url,\n",
    "        api_key=api_key,\n",
    "        messages = [\n",
    "            {\n",
    "                \"role\": \"user\",\n",
    "                \"content\": [\n",
    "                    {\"type\": \"text\", \"text\": col(\"user\")},\n",
    "                    {\n",
    "                        \"type\": \"image_url\",\n",
    "                        \"image_url\": {\"url\": f\"data:image/png;base64,{col(\"image_base64\")}\"},\n",
    "                    },\n",
    "                ],\n",
    "            }\n",
    "        ],\n",
    "    )\n",
    ").collect()"
   ]
  },
  {
   "cell_type": "markdown",
   "id": "c031ddc4",
   "metadata": {},
   "source": [
    "# Nope... we get a cryptic error\n",
    "\n",
    "Hold on... lets run the full gamut of structured outputs just to see what works...\n",
    "\n",
    "yesterday I was running into errors with pydantic json_schema try the simple pydantic schema with this dataset just for kicks.\n",
    "\n",
    "At this point I'm pretty unsure of how to move forward with passing an image into llm_generate. Especially for this use case where we need to `format` both the prompt and image columns together into a dictionary where input_column expects to be a string.  "
   ]
  }
 ],
 "metadata": {
  "language_info": {
   "name": "python"
  }
 },
 "nbformat": 4,
 "nbformat_minor": 5
}
