{
 "cells": [
  {
   "cell_type": "code",
   "execution_count": null,
   "id": "027697fe",
   "metadata": {
    "vscode": {
     "languageId": "plaintext"
    }
   },
   "outputs": [],
   "source": [
    "from daft import col\n",
    "from daft.functions import llm_generate, format\n",
    "\n",
    "df_mini = df.limit(3)\n",
    "\n",
    "df_mini_result = df_mini.with_column(\"result\", llm_generate(\n",
    "        df_mini[\"user\"],\n",
    "        model=model_id,\n",
    "        provider=\"openai\",\n",
    "        extra_body={\"guided_choice\": [\"A\", \"B\", \"C\", \"D\"]},\n",
    "        base_url=base_url,\n",
    "        api_key=api_key\n",
    "    )\n",
    ").collect()\n",
    "df_mini_result.show()"
   ]
  },
  {
   "cell_type": "code",
   "execution_count": null,
   "id": "971cff70",
   "metadata": {
    "vscode": {
     "languageId": "plaintext"
    }
   },
   "outputs": [],
   "source": [
    "# Guided JSON\n",
    "df_mini_result = df_mini.with_column(\"result\", llm_generate(\n",
    "        df_mini[\"user\"],\n",
    "        model=model_id,\n",
    "        provider=\"openai\",\n",
    "        extra_body={\"guided_json\":{\n",
    "            \"type\": \"string\",\n",
    "            \"enum\": [\"A\", \"B\", \"C\", \"D\"]\n",
    "        }},\n",
    "        base_url=base_url,\n",
    "        api_key=api_key\n",
    "    )\n",
    ").collect()\n",
    "df_mini_result.select(\"question\",\"choices_string\",\"answer\",\"image_png\",\"result\").show()"
   ]
  },
  {
   "cell_type": "code",
   "execution_count": null,
   "id": "06bf39fe",
   "metadata": {},
   "outputs": [],
   "source": [
    "# Guided Choice\n",
    "df_mini_result = df_mini.with_column(\"result\", llm_generate(\n",
    "        df_mini[\"user\"],\n",
    "        model=model_id,\n",
    "        provider=\"openai\",\n",
    "        extra_body={\"guided_choice\": [\"A\", \"B\", \"C\", \"D\"]},\n",
    "        base_url=base_url,\n",
    "        api_key=api_key\n",
    "    )\n",
    ").collect()\n",
    "df_mini_result.select(\"question\",\"choices_string\",\"answer\",\"image_png\",\"result\").show()"
   ]
  },
  {
   "cell_type": "code",
   "execution_count": null,
   "id": "f325b4e3",
   "metadata": {},
   "outputs": [],
   "source": [
    "# Guided Regex\n",
    "df_mini_result = df_mini.with_column(\"result\", llm_generate(\n",
    "        df_mini[\"user\"],\n",
    "        model=model_id,\n",
    "        provider=\"openai\",\n",
    "        extra_body={\"guided_regex\": r\"^[A-D]$\"},\n",
    "        base_url=base_url,\n",
    "        api_key=api_key\n",
    "    )\n",
    ").collect().show()\n",
    "df_mini_result.select(\"question\",\"choices_string\",\"answer\",\"image_png\",\"result\").show()"
   ]
  },
  {
   "cell_type": "code",
   "execution_count": null,
   "id": "5d408cd9",
   "metadata": {},
   "outputs": [],
   "source": [
    "## Guided Grammar\n",
    "df_mini_result = df_mini.with_column(\"result\", llm_generate(\n",
    "        df_mini[\"user\"],\n",
    "        model=model_id,\n",
    "        provider=\"openai\",\n",
    "        extra_body={\"guided_grammar\": r\"\"\"\n",
    "            root ::= choice\n",
    "            choice ::= \"A\" | \"B\" | \"C\" | \"D\"\n",
    "        \"\"\"},\n",
    "        base_url=base_url,\n",
    "        api_key=api_key\n",
    "    )\n",
    ").collect()\n",
    "df_mini_result.select(\"question\",\"choices_string\",\"answer\",\"image_png\",\"result\").show()"
   ]
  },
  {
   "cell_type": "code",
   "execution_count": null,
   "id": "14a22246",
   "metadata": {},
   "outputs": [],
   "source": [
    "# Pydantic Json Schema\n",
    "from pydantic import BaseModel, Field\n",
    "\n",
    "class Choices(BaseModel):\n",
    "    answer: str = Field(description=\"Answer with the letter.\" , pattern=r\"^[A-D]$\")\n",
    "\n",
    "df_mini_result = df_mini.with_column(\"result\", llm_generate(\n",
    "        df_mini[\"user\"],\n",
    "        model=model_id,\n",
    "        provider=\"openai\",\n",
    "        response_format = {\n",
    "            \"type\": \"json_schema\",\n",
    "            \"json_schema\": {\n",
    "                \"name\": \"choices\",\n",
    "                \"schema\": Choices.model_json_schema(),\n",
    "            },\n",
    "        },\n",
    "        base_url=base_url,\n",
    "        api_key=api_key\n",
    "    )\n",
    ").collect()\n",
    "df_mini_result.select(\"question\",\"choices_string\",\"answer\",\"image_png\",\"result\").show()\n"
   ]
  },
  {
   "cell_type": "markdown",
   "id": "c6aa479d",
   "metadata": {},
   "source": [
    "## NOTE! With Pydantic we have to convert the result back to the pydantic model if we need to run our validations.\n",
    "Its definitely best practice to immediately return inference results e so that we can vectorize the validation. (More efficient)"
   ]
  },
  {
   "cell_type": "markdown",
   "id": "2f545ee8",
   "metadata": {},
   "source": [
    "df_mini_result_validated = df_mini_result.with_column(\"pydantic_model_validated\", df_mini_result[\"result\"].apply(\n",
    "    lambda x: Choices.model_validate_json(x),\n",
    "    return_dtype= daft.DataType.python()\n",
    ")).collect()\n",
    "\n",
    "# Wahoo, a Validated Pydantic Model in Frame!\n",
    "df_mini_result_validated.select(\"answer\",\"pydantic_model_validated\").show()"
   ]
  }
 ],
 "metadata": {
  "language_info": {
   "name": "python"
  }
 },
 "nbformat": 4,
 "nbformat_minor": 5
}
